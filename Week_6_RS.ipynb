{
 "cells": [
  {
   "cell_type": "code",
   "execution_count": 59,
   "metadata": {},
   "outputs": [
    {
     "name": "stdout",
     "output_type": "stream",
     "text": [
      "Populating the interactive namespace from numpy and matplotlib\n"
     ]
    }
   ],
   "source": [
    "import pandas as pd\n",
    "import numpy as np\n",
    "import pandas_profiling as pp\n",
    "from warnings import filterwarnings\n",
    "filterwarnings('ignore')\n",
    "import matplotlib as plt\n",
    "import seaborn as sns\n",
    "\n",
    "%pylab inline"
   ]
  },
  {
   "cell_type": "code",
   "execution_count": 60,
   "metadata": {},
   "outputs": [],
   "source": [
    "train = pd.read_csv('orange_small_churn_train_data.csv')\n",
    "test = pd.read_csv('orange_small_churn_test_data.csv')\n",
    "df = train.copy()"
   ]
  },
  {
   "cell_type": "code",
   "execution_count": 61,
   "metadata": {},
   "outputs": [],
   "source": [
    "# Одно наблюдение было без метки в трейне\n",
    "train = train[~train.labels.isna()]"
   ]
  },
  {
   "cell_type": "code",
   "execution_count": 62,
   "metadata": {
    "scrolled": false
   },
   "outputs": [
    {
     "data": {
      "text/plain": [
       "-1.0    16921\n",
       " 1.0     1377\n",
       "Name: labels, dtype: int64"
      ]
     },
     "execution_count": 62,
     "metadata": {},
     "output_type": "execute_result"
    }
   ],
   "source": [
    "train.labels.value_counts()"
   ]
  },
  {
   "cell_type": "code",
   "execution_count": 63,
   "metadata": {},
   "outputs": [
    {
     "data": {
      "text/plain": [
       "(18298, 232)"
      ]
     },
     "execution_count": 63,
     "metadata": {},
     "output_type": "execute_result"
    }
   ],
   "source": [
    "train.shape"
   ]
  },
  {
   "cell_type": "markdown",
   "metadata": {},
   "source": [
    "Досыпем наблюдений класса отток"
   ]
  },
  {
   "cell_type": "code",
   "execution_count": 64,
   "metadata": {},
   "outputs": [],
   "source": [
    "from sklearn.utils import shuffle"
   ]
  },
  {
   "cell_type": "code",
   "execution_count": 65,
   "metadata": {},
   "outputs": [],
   "source": [
    "def oversampling(data):\n",
    "    data_churn = data[data.labels == 1]\n",
    "    data_No_churn = data[data.labels == -1]\n",
    "    times_to_oversample = data_No_churn.shape[0] // data_churn.shape[0]\n",
    "    data_to_append = data_churn\n",
    "    for i in range(times_to_oversample):\n",
    "        data_to_append = data_to_append.append(data_churn)\n",
    "    data_No_churn = shuffle(data_No_churn.append(data_to_append))\n",
    "    return data_No_churn"
   ]
  },
  {
   "cell_type": "code",
   "execution_count": 66,
   "metadata": {},
   "outputs": [],
   "source": [
    "train = oversampling(train)"
   ]
  },
  {
   "cell_type": "code",
   "execution_count": 67,
   "metadata": {},
   "outputs": [],
   "source": [
    "y = train.labels"
   ]
  },
  {
   "cell_type": "markdown",
   "metadata": {},
   "source": [
    "Слепим общий датафрейм для чистки и заполнения пропусков"
   ]
  },
  {
   "cell_type": "code",
   "execution_count": 69,
   "metadata": {},
   "outputs": [],
   "source": [
    "data = train"
   ]
  },
  {
   "cell_type": "code",
   "execution_count": 70,
   "metadata": {},
   "outputs": [
    {
     "data": {
      "text/plain": [
       "(34822, 232)"
      ]
     },
     "execution_count": 70,
     "metadata": {},
     "output_type": "execute_result"
    }
   ],
   "source": [
    "data.shape"
   ]
  },
  {
   "cell_type": "code",
   "execution_count": 71,
   "metadata": {},
   "outputs": [
    {
     "data": {
      "text/plain": [
       "14922    1.0\n",
       "5957    -1.0\n",
       "8804     1.0\n",
       "7048     1.0\n",
       "3        1.0\n",
       "        ... \n",
       "2444    -1.0\n",
       "3487    -1.0\n",
       "12444    1.0\n",
       "5630    -1.0\n",
       "1672     1.0\n",
       "Name: labels, Length: 34822, dtype: float64"
      ]
     },
     "execution_count": 71,
     "metadata": {},
     "output_type": "execute_result"
    }
   ],
   "source": [
    "y"
   ]
  },
  {
   "cell_type": "code",
   "execution_count": 72,
   "metadata": {},
   "outputs": [
    {
     "data": {
      "text/plain": [
       " 1.0    17901\n",
       "-1.0    16921\n",
       "Name: labels, dtype: int64"
      ]
     },
     "execution_count": 72,
     "metadata": {},
     "output_type": "execute_result"
    }
   ],
   "source": [
    "data.labels.value_counts()"
   ]
  },
  {
   "cell_type": "code",
   "execution_count": 73,
   "metadata": {},
   "outputs": [],
   "source": [
    "data = data.drop('labels',axis=1)"
   ]
  },
  {
   "cell_type": "code",
   "execution_count": 74,
   "metadata": {},
   "outputs": [],
   "source": [
    "data = data.dropna(axis=1, thresh=2000)"
   ]
  },
  {
   "cell_type": "code",
   "execution_count": 75,
   "metadata": {},
   "outputs": [
    {
     "data": {
      "text/plain": [
       "(34822, 78)"
      ]
     },
     "execution_count": 75,
     "metadata": {},
     "output_type": "execute_result"
    }
   ],
   "source": [
    "data.shape"
   ]
  },
  {
   "cell_type": "markdown",
   "metadata": {},
   "source": [
    "Заполним пропуски. Отдельно в категориальных и числовых фичах"
   ]
  },
  {
   "cell_type": "code",
   "execution_count": 76,
   "metadata": {},
   "outputs": [],
   "source": [
    "qual_data = data.select_dtypes(include='object')\n",
    "qual_data.fillna('None', inplace=True)"
   ]
  },
  {
   "cell_type": "code",
   "execution_count": 77,
   "metadata": {},
   "outputs": [],
   "source": [
    "from sklearn.preprocessing import LabelEncoder\n",
    "from sklearn.pipeline import Pipeline\n",
    "\n",
    "class MultiColumnLabelEncoder:\n",
    "    def __init__(self,columns = None):\n",
    "        self.columns = columns # array of column names to encode\n",
    "\n",
    "    def fit(self,X,y=None):\n",
    "        return self # not relevant here\n",
    "\n",
    "    def transform(self,X):\n",
    "        '''\n",
    "        Transforms columns of X specified in self.columns using\n",
    "        LabelEncoder(). If no columns specified, transforms all\n",
    "        columns in X.\n",
    "        '''\n",
    "        output = X.copy()\n",
    "        if self.columns is not None:\n",
    "            for col in self.columns:\n",
    "                output[col] = LabelEncoder().fit_transform(output[col])\n",
    "        else:\n",
    "            for colname,col in output.iteritems():\n",
    "                output[colname] = LabelEncoder().fit_transform(col)\n",
    "        return output\n",
    "\n",
    "    def fit_transform(self,X,y=None):\n",
    "        return self.fit(X,y).transform(X)"
   ]
  },
  {
   "cell_type": "code",
   "execution_count": 78,
   "metadata": {},
   "outputs": [],
   "source": [
    "qual_data = MultiColumnLabelEncoder().fit_transform(qual_data)"
   ]
  },
  {
   "cell_type": "code",
   "execution_count": 79,
   "metadata": {},
   "outputs": [],
   "source": [
    "quant_data = data.select_dtypes(exclude='object')"
   ]
  },
  {
   "cell_type": "markdown",
   "metadata": {},
   "source": [
    "Числовые признаки заполним медианным значением"
   ]
  },
  {
   "cell_type": "code",
   "execution_count": 80,
   "metadata": {},
   "outputs": [],
   "source": [
    "num_means = quant_data.median()\n",
    "quant_data = quant_data.fillna(num_means)"
   ]
  },
  {
   "cell_type": "markdown",
   "metadata": {},
   "source": [
    "Собираем обратно весь сет"
   ]
  },
  {
   "cell_type": "code",
   "execution_count": 81,
   "metadata": {},
   "outputs": [],
   "source": [
    "all_data = pd.concat([qual_data,quant_data], axis=1, join='inner')"
   ]
  },
  {
   "cell_type": "markdown",
   "metadata": {},
   "source": [
    "Делим обратно на train test"
   ]
  },
  {
   "cell_type": "code",
   "execution_count": 82,
   "metadata": {},
   "outputs": [
    {
     "name": "stdout",
     "output_type": "stream",
     "text": [
      "(34822, 78) (34822,) (0, 78)\n"
     ]
    }
   ],
   "source": [
    "df_train = all_data.iloc[:len(y),:]\n",
    "df_test = all_data.iloc[len(y):,:]\n",
    "print(df_train.shape,y.shape,df_test.shape)"
   ]
  },
  {
   "cell_type": "code",
   "execution_count": 83,
   "metadata": {},
   "outputs": [],
   "source": [
    "cols_to_drop = ['ID', 'Var201','Var160','Var22','Var208']\n",
    "df_train = df_train.drop(cols_to_drop,axis=1)\n",
    "df_test = df_test.drop(cols_to_drop,axis=1)"
   ]
  },
  {
   "cell_type": "markdown",
   "metadata": {},
   "source": [
    "### Evaluation"
   ]
  },
  {
   "cell_type": "code",
   "execution_count": 84,
   "metadata": {},
   "outputs": [],
   "source": [
    "from sklearn.model_selection import train_test_split\n",
    "X_train, X_test, y_train, y_test = train_test_split(df_train, y, test_size=0.33, random_state=42)"
   ]
  },
  {
   "cell_type": "code",
   "execution_count": 85,
   "metadata": {},
   "outputs": [],
   "source": [
    "from sklearn.model_selection import KFold, cross_val_score, StratifiedKFold\n",
    "n_folds = 10\n",
    "\n",
    "def f1_cv(model):\n",
    "    kf = KFold(n_folds, shuffle=True, random_state=42).get_n_splits(X_train.values)\n",
    "    f1_score = cross_val_score(model, X_test.values, y_test, scoring=\"f1\", cv = kf, n_jobs = -1)\n",
    "    roc = cross_val_score(model, X_test.values, y_test, scoring=\"roc_auc\", cv = kf, n_jobs = -1)\n",
    "    return(f1_score, roc)"
   ]
  },
  {
   "cell_type": "markdown",
   "metadata": {},
   "source": [
    "### Modeing"
   ]
  },
  {
   "cell_type": "code",
   "execution_count": 86,
   "metadata": {},
   "outputs": [],
   "source": [
    "from sklearn.ensemble import RandomForestClassifier"
   ]
  },
  {
   "cell_type": "code",
   "execution_count": 87,
   "metadata": {},
   "outputs": [],
   "source": [
    "estimator = RandomForestClassifier(max_depth=20,n_estimators=500,n_jobs=-1)"
   ]
  },
  {
   "cell_type": "code",
   "execution_count": 88,
   "metadata": {},
   "outputs": [
    {
     "data": {
      "text/plain": [
       "RandomForestClassifier(bootstrap=True, ccp_alpha=0.0, class_weight=None,\n",
       "                       criterion='gini', max_depth=20, max_features='auto',\n",
       "                       max_leaf_nodes=None, max_samples=None,\n",
       "                       min_impurity_decrease=0.0, min_impurity_split=None,\n",
       "                       min_samples_leaf=1, min_samples_split=2,\n",
       "                       min_weight_fraction_leaf=0.0, n_estimators=500,\n",
       "                       n_jobs=-1, oob_score=False, random_state=None, verbose=0,\n",
       "                       warm_start=False)"
      ]
     },
     "execution_count": 88,
     "metadata": {},
     "output_type": "execute_result"
    }
   ],
   "source": [
    "estimator.fit(X_train,y_train)"
   ]
  },
  {
   "cell_type": "code",
   "execution_count": 89,
   "metadata": {
    "scrolled": true
   },
   "outputs": [
    {
     "name": "stdout",
     "output_type": "stream",
     "text": [
      "\n",
      " f1 score: 0.9632 (0.0036)\n",
      "\n",
      "\n",
      " ROC_AUC score: 0.9951 (0.0020)\n",
      "\n"
     ]
    }
   ],
   "source": [
    "f1_score, roc_score = f1_cv(estimator)\n",
    "print(\"\\n f1 score: {:.4f} ({:.4f})\\n\".format(f1_score.mean(), f1_score.std()))\n",
    "print(\"\\n ROC_AUC score: {:.4f} ({:.4f})\\n\".format(roc_score.mean(), roc_score.std()))"
   ]
  },
  {
   "cell_type": "markdown",
   "metadata": {},
   "source": [
    "### Постройте простую экономическую модель для оценки эффекта от внедрения полученного решения на практике.\n",
    "\n",
    "Например, введите следующие параметры:\n",
    "<ul>\n",
    "   <li>сколько денег в среднем приносит один пользователь в месяц</li>\n",
    "   <li>сколько денег в среднем вы будете вкладывать в удержание одного пользователя </li>\n",
    "   <li>с какой вероятностью пользователь примет ваше предложение</li>\n",
    "   <li>сколько пользователей (например, топ 1% или топ 25% согласно ранжированию по вашей модели) будет участвовать в кампании</li>\n",
    "</ul>\n",
    "   1. Введите еще несколько параметров и на их основе постройте простую экономическую модель: формулу по которой в зависимости от значения исходных параметров вы сможете рассчитать экономический эффект от проведения кампании (= сколько денег вы получили (или наоборот потеряли) от проведения кампании по удержанию) с использование вашей модели."
   ]
  },
  {
   "cell_type": "markdown",
   "metadata": {},
   "source": [
    "В изначальном сете 1377 пользователей ушло. При income = 100 рублей от одного пользователя мы недополучим 137700 рублей. Модель определяет с 96% точностью тех кто собрался оттекать(берем минимальное). В 4% запишем в тех, кто точно ушел: убыток составит - 0.04* 1377* 100 = 5508 рублей. "
   ]
  },
  {
   "cell_type": "markdown",
   "metadata": {},
   "source": [
    "Теперь посчитаем сколько денег мы можем потратить на одного пользователя для того, чтобы минимизировать потери от оттока. Чтобы выйти в ноль нужно (137700 - 5508)/ 2 + 5508 = 71604 рублей. То есть 717 пользователей нужно переубедить уходить,чтобы они принесли нам свои 100 рубасиков. <br>\n",
    "Предположим, что наша программа по удержанию дико эффективна и 85% тех, кто собирался уходить, после обработки нашими методами решили остаться.Итого нам надо обработать 717/0.85 = 843 пользователя, которые собрались уходить и которых модель наша нашла с 96%й точностью. Бюджет у нас на пользователя: 71604 / 843 = 85 рублей, что достаточно дофига и никто нам такие деньги не даст. Поэтому будем брать пользователей, у которых вероятность оттока больше определённого порога, допустим 0.65 и будем включать и их в нашу кампанию."
   ]
  },
  {
   "cell_type": "markdown",
   "metadata": {},
   "source": [
    "Значение в 0.65 взято из графика ниже. На нём гистограмма распределения вероятности отнесения к отрицательному классу. как раз после этого значения идет резкое увеличение. Это не ошибка модели, а влияние оверсэмплинга, который использовал я при построении модели. Поделим на 12( примерно во столько раз и увеличивал долю оттока) и получим число пользователей оттока."
   ]
  },
  {
   "cell_type": "code",
   "execution_count": 94,
   "metadata": {},
   "outputs": [],
   "source": [
    "values = estimator.predict_proba(X_test)[:,1]"
   ]
  },
  {
   "cell_type": "code",
   "execution_count": 95,
   "metadata": {},
   "outputs": [
    {
     "data": {
      "image/png": "[encoded data removed]",
      "text/plain": [
       "<Figure size 432x288 with 1 Axes>"
      ]
     },
     "metadata": {
      "needs_background": "light"
     },
     "output_type": "display_data"
    }
   ],
   "source": [
    "hist(values, bins=50)\n",
    "plt.show()"
   ]
  },
  {
   "cell_type": "code",
   "execution_count": 96,
   "metadata": {
    "scrolled": true
   },
   "outputs": [
    {
     "data": {
      "text/plain": [
       "479.0073230268511"
      ]
     },
     "execution_count": 96,
     "metadata": {},
     "output_type": "execute_result"
    }
   ],
   "source": [
    "len(values[values > 0.65]) / 12.29"
   ]
  },
  {
   "cell_type": "code",
   "execution_count": 97,
   "metadata": {
    "scrolled": true
   },
   "outputs": [
    {
     "data": {
      "text/plain": [
       "6084.007323026851"
      ]
     },
     "execution_count": 97,
     "metadata": {},
     "output_type": "execute_result"
    }
   ],
   "source": [
    "len(values) - len(values[values > 0.65]) + len(values[values > 0.65]) / 12.29"
   ]
  },
  {
   "cell_type": "markdown",
   "metadata": {},
   "source": [
    "480 пользователь из 6084, или примерно 8% - это те, которых будем включать в кампанию. Доля оттока в изначальном сете - примерно 7.5% Значит наше предположение подтверждается. И мы включим сюда пользователей, которые тоже возможно подумывают уйти."
   ]
  },
  {
   "cell_type": "markdown",
   "metadata": {},
   "source": [
    "Будем брать даже больше чем топ 25% для участия в компании, т.к. модель показывает что в верхней четверти повышается вероятность оттока. Если взять пользователей топ-1% то охват будет меньше и возможно в топ1% находятся те пользователи, которые точно решили оттечь и тратить только на них силы может быть бессмысленно. Возможно даже будет иметь сямысл отрезать топ1% и НЕ проводить компанию для тех, кто точно собрался уходить, но это тема другого исследования."
   ]
  },
  {
   "cell_type": "code",
   "execution_count": 101,
   "metadata": {},
   "outputs": [],
   "source": [
    "X_test['labels'] = y_test"
   ]
  },
  {
   "cell_type": "code",
   "execution_count": 102,
   "metadata": {
    "scrolled": true
   },
   "outputs": [
    {
     "data": {
      "text/plain": [
       " 1.0    5873\n",
       "-1.0    5619\n",
       "Name: labels, dtype: int64"
      ]
     },
     "execution_count": 102,
     "metadata": {},
     "output_type": "execute_result"
    }
   ],
   "source": [
    "X_test['labels'].value_counts()"
   ]
  },
  {
   "cell_type": "code",
   "execution_count": 109,
   "metadata": {},
   "outputs": [],
   "source": [
    "def undersampling(data, alpha):\n",
    "    dataChurn = data[data['labels'] == 1]\n",
    "    dataNoChurn = data[data['labels'] == -1]\n",
    "    countChurn = len(dataChurn)\n",
    "    countNoChurn = len(dataNoChurn)\n",
    "    np.random.seed(42)\n",
    "    rands = np.random.randint(0,countNoChurn, int(countChurn*alpha))\n",
    "    dataNoChurn = dataNoChurn.append(dataChurn.iloc[rands,:])\n",
    "    dataNoChurn = shuffle(dataNoChurn)\n",
    "    return dataNoChurn"
   ]
  },
  {
   "cell_type": "code",
   "execution_count": 110,
   "metadata": {},
   "outputs": [],
   "source": [
    "X2 = undersampling(X_test, 0.08137)"
   ]
  },
  {
   "cell_type": "code",
   "execution_count": 111,
   "metadata": {},
   "outputs": [
    {
     "data": {
      "text/plain": [
       "-1.0    5619\n",
       " 1.0     477\n",
       "Name: labels, dtype: int64"
      ]
     },
     "execution_count": 111,
     "metadata": {},
     "output_type": "execute_result"
    }
   ],
   "source": [
    "X2['labels'].value_counts()"
   ]
  },
  {
   "cell_type": "code",
   "execution_count": 112,
   "metadata": {},
   "outputs": [],
   "source": [
    "y2 = X2.labels\n",
    "X2.drop('labels',axis=1,inplace=True)"
   ]
  },
  {
   "cell_type": "code",
   "execution_count": 224,
   "metadata": {},
   "outputs": [],
   "source": [
    "def emodel(users, income_per_user, expences_per_user, efficiency):\n",
    "    total = users*(income_per_user - expences_per_user)* efficiency\n",
    "    return total"
   ]
  },
  {
   "cell_type": "markdown",
   "metadata": {},
   "source": [
    "Прикинем на 1000 пользователей как влияет на доход сумма удержания при эффективности кампании 85%"
   ]
  },
  {
   "cell_type": "code",
   "execution_count": 227,
   "metadata": {},
   "outputs": [
    {
     "data": {
      "text/plain": [
       "[<matplotlib.lines.Line2D at 0x7f19af1f0208>]"
      ]
     },
     "execution_count": 227,
     "metadata": {},
     "output_type": "execute_result"
    },
    {
     "data": {
      "image/png": "[encoded data removed]",
      "text/plain": [
       "<Figure size 432x288 with 1 Axes>"
      ]
     },
     "metadata": {
      "needs_background": "light"
     },
     "output_type": "display_data"
    }
   ],
   "source": [
    "plot(range(1,50),[emodel(1000,100,x,0.85)for x in range(1,50)])"
   ]
  },
  {
   "cell_type": "markdown",
   "metadata": {},
   "source": [
    "Логично, что с повышением расходов прибыль падает."
   ]
  },
  {
   "cell_type": "code",
   "execution_count": 229,
   "metadata": {},
   "outputs": [
    {
     "data": {
      "text/plain": [
       "[<matplotlib.lines.Line2D at 0x7f19af26a358>]"
      ]
     },
     "execution_count": 229,
     "metadata": {},
     "output_type": "execute_result"
    },
    {
     "data": {
      "image/png": "[encoded data removed]",
      "text/plain": [
       "<Figure size 432x288 with 1 Axes>"
      ]
     },
     "metadata": {
      "needs_background": "light"
     },
     "output_type": "display_data"
    }
   ],
   "source": [
    "plot(np.linspace(0,1,100),[emodel(1000,100,20,x) for x in np.linspace(0,1,100)])"
   ]
  },
  {
   "cell_type": "markdown",
   "metadata": {},
   "source": [
    "Доход растет при увеличении эффективности кампании. "
   ]
  },
  {
   "cell_type": "code",
   "execution_count": 113,
   "metadata": {},
   "outputs": [],
   "source": [
    "def model_without (revenue, top ):\n",
    "    values = estimator.predict_proba(X2)[:,1]\n",
    "    lst = [(value, int(y2.values[i]), i) for (i,value) in enumerate(values)]\n",
    "    lst.sort(key = lambda x: -x[0])\n",
    "    equety = []\n",
    "    for i in top:\n",
    "        cnt = int(len(lst) * i /100)\n",
    "        cnt_churn = len([value for (i,value) in enumerate(lst[:cnt]) if value[1] == 1])\n",
    "        income = cnt * revenue - cnt_churn * revenue\n",
    "        equety.append(income)\n",
    "    return equety"
   ]
  },
  {
   "cell_type": "code",
   "execution_count": 114,
   "metadata": {},
   "outputs": [],
   "source": [
    "def model_with (revenue, cost, proba, top):\n",
    "    values = estimator.predict_proba(X2)[:,1]\n",
    "    lst = [(value, int(y2.values[i]), i) for (i,value) in enumerate(values)]\n",
    "    lst.sort(key = lambda x: -x[0])\n",
    "    equety = []\n",
    "    for i in top:\n",
    "        cnt = int(len(lst) * i /100)\n",
    "        cnt_churn = len([value for (i,value) in enumerate(lst[:cnt]) if value[1] == 1])\n",
    "        costs = cost * cnt\n",
    "        income = cnt * revenue - ((1 - proba) * cnt_churn * revenue)\n",
    "        equety.append(income - costs)\n",
    "    return equety"
   ]
  },
  {
   "cell_type": "code",
   "execution_count": 145,
   "metadata": {},
   "outputs": [
    {
     "data": {
      "image/png": "[encoded data removed]",
      "text/plain": [
       "<Figure size 432x288 with 1 Axes>"
      ]
     },
     "metadata": {
      "needs_background": "light"
     },
     "output_type": "display_data"
    }
   ],
   "source": [
    "with_promo = model_with (revenue = 100, cost = 20, proba = 0.01, top = range(1,25))\n",
    "without_promo = model_without (revenue = 100, top = range(1,25))\n",
    "x = range(1, 25, 1)\n",
    "plot(x, with_promo, color=\"g\", label=\"with promo\")\n",
    "plot(x, without_promo, color=\"r\", label=\"without promo\")\n",
    "plt.legend()\n",
    "plt.show()"
   ]
  },
  {
   "cell_type": "markdown",
   "metadata": {},
   "source": [
    "При затратах на удержание 20 руб, прибыль равна нулю при привлечении примерно 9% пользователей при эффективности кампании 1%"
   ]
  },
  {
   "cell_type": "markdown",
   "metadata": {},
   "source": [
    "Посчитаем только абонентов склонных к оттоку"
   ]
  },
  {
   "cell_type": "code",
   "execution_count": 130,
   "metadata": {},
   "outputs": [],
   "source": [
    "def model_updated (revenue, cost, proba, top):\n",
    "    values = estimator.predict_proba(X2)[:,1]\n",
    "    lst = [(value, int(y2.values[i]), i) for (i,value) in enumerate(values)]\n",
    "    lst.sort(key = lambda x: -x[0])\n",
    "    equety = []\n",
    "    income = 0\n",
    "    for i in top:\n",
    "        cnt = int(len(lst) * i /100)\n",
    "        cnt_churn = len([value for (i,value) in enumerate(lst[:cnt]) if value[1] == 1])\n",
    "        costs = cost * cnt\n",
    "        income += revenue*proba*cnt_churn\n",
    "        equety.append(income - costs)\n",
    "        income = 0\n",
    "    return equety"
   ]
  },
  {
   "cell_type": "code",
   "execution_count": 146,
   "metadata": {},
   "outputs": [
    {
     "data": {
      "text/plain": [
       "[<matplotlib.lines.Line2D at 0x7efd256b9390>]"
      ]
     },
     "execution_count": 146,
     "metadata": {},
     "output_type": "execute_result"
    },
    {
     "data": {
      "image/png": "[encoded data removed]",
      "text/plain": [
       "<Figure size 432x288 with 1 Axes>"
      ]
     },
     "metadata": {
      "needs_background": "light"
     },
     "output_type": "display_data"
    }
   ],
   "source": [
    "x = range(1, 101, 1)\n",
    "plot(x, model_updated(revenue = 100, cost = 20, proba = 0.85, top = range(1,101)))"
   ]
  },
  {
   "cell_type": "markdown",
   "metadata": {},
   "source": [
    "2. Исходя из введенных параметров проанализируйте, какой топ пользователей, склонных к оттоку согласно модели, оптимально выбрать для проведения кампании по удержанию для таким образом, чтобы экономический эффект был наибольшим? "
   ]
  },
  {
   "cell_type": "code",
   "execution_count": 150,
   "metadata": {},
   "outputs": [],
   "source": [
    "res = model_updated(revenue = 100, cost = 20, proba = 0.85, top = range(1,101))"
   ]
  },
  {
   "cell_type": "code",
   "execution_count": 151,
   "metadata": {
    "scrolled": true
   },
   "outputs": [
    {
     "data": {
      "text/plain": [
       "[<matplotlib.lines.Line2D at 0x7efd4e3d1e48>]"
      ]
     },
     "execution_count": 151,
     "metadata": {},
     "output_type": "execute_result"
    },
    {
     "data": {
      "image/png": "[encoded data removed]",
      "text/plain": [
       "<Figure size 432x288 with 1 Axes>"
      ]
     },
     "metadata": {
      "needs_background": "light"
     },
     "output_type": "display_data"
    }
   ],
   "source": [
    "plot(x, res)"
   ]
  },
  {
   "cell_type": "code",
   "execution_count": 152,
   "metadata": {},
   "outputs": [
    {
     "name": "stdout",
     "output_type": "stream",
     "text": [
      "max revenue is 30805.0 with top of 7 percents\n"
     ]
    }
   ],
   "source": [
    "print('max revenue is %s with top of %d percents' % (max(res), res.index(max(res))))"
   ]
  },
  {
   "cell_type": "markdown",
   "metadata": {},
   "source": [
    "3. Попробуйте усложнить экономическую модель. Добавьте еще несколько параметров и поиграйте с ними (например, измените стоимость удержания и вероятность, с которой пользователь принимает предложение), проанализируйте как меняется оптимальный размер топа? "
   ]
  },
  {
   "cell_type": "code",
   "execution_count": 153,
   "metadata": {},
   "outputs": [
    {
     "data": {
      "text/plain": [
       "[<matplotlib.lines.Line2D at 0x7efd4e599ba8>]"
      ]
     },
     "execution_count": 153,
     "metadata": {},
     "output_type": "execute_result"
    },
    {
     "data": {
      "image/png": "[encoded data removed]",
      "text/plain": [
       "<Figure size 432x288 with 1 Axes>"
      ]
     },
     "metadata": {
      "needs_background": "light"
     },
     "output_type": "display_data"
    }
   ],
   "source": [
    "plot(x, model_updated(revenue = 100, cost = 10, proba = 0.85, top = range(1,101)))"
   ]
  },
  {
   "cell_type": "code",
   "execution_count": 154,
   "metadata": {},
   "outputs": [
    {
     "data": {
      "text/plain": [
       "[<matplotlib.lines.Line2D at 0x7efd4917d0b8>]"
      ]
     },
     "execution_count": 154,
     "metadata": {},
     "output_type": "execute_result"
    },
    {
     "data": {
      "image/png": "[encoded data removed]",
      "text/plain": [
       "<Figure size 432x288 with 1 Axes>"
      ]
     },
     "metadata": {
      "needs_background": "light"
     },
     "output_type": "display_data"
    }
   ],
   "source": [
    "plot(x, model_updated(revenue = 100, cost = 10, proba = 0.5, top = range(1,101)))"
   ]
  },
  {
   "cell_type": "markdown",
   "metadata": {},
   "source": [
    "Доход прямо пропорционален эффективности компании и обратно к стоимости привлечения, что более чем логично."
   ]
  },
  {
   "cell_type": "markdown",
   "metadata": {},
   "source": [
    "4. Всегда ли применение модели экономически оправданно? Приведите пример набора значений параметров, при которых применение модели перестает быть оправданным."
   ]
  },
  {
   "cell_type": "code",
   "execution_count": 156,
   "metadata": {},
   "outputs": [
    {
     "data": {
      "text/plain": [
       "[<matplotlib.lines.Line2D at 0x7efd4915dc50>]"
      ]
     },
     "execution_count": 156,
     "metadata": {},
     "output_type": "execute_result"
    },
    {
     "data": {
      "image/png": "[encoded data removed]",
      "text/plain": [
       "<Figure size 432x288 with 1 Axes>"
      ]
     },
     "metadata": {
      "needs_background": "light"
     },
     "output_type": "display_data"
    }
   ],
   "source": [
    "plot(x, model_updated(revenue = 100, cost =20, proba = 0.2, top = range(1,101)))"
   ]
  },
  {
   "cell_type": "markdown",
   "metadata": {},
   "source": [
    "Конечно не всегда. при стоимости более 20 и эффективности 20% модель не имеет никакого профита совсем, только расходы при росте охвата пользователей"
   ]
  },
  {
   "cell_type": "markdown",
   "metadata": {},
   "source": [
    "5. Оцените изменение экономического эффекта от проведения кампании по удержанию при увеличении качества модели на 1%? На 3%? При ответе на вопрос укажите, по какой метрике вы оцениваете качество."
   ]
  },
  {
   "cell_type": "markdown",
   "metadata": {},
   "source": [
    "Метрика F1 что является отношением (precesion*recall)/(precesion+recall)"
   ]
  },
  {
   "cell_type": "markdown",
   "metadata": {},
   "source": [
    "В задачах как эта важным является снижение ложноотрицательных ответов, то есть тех, кого мы не предсказали как уходящих, а они на самом деле ушли. Модель была обучена на специально сбалансированном сете и переучилась на минимизмцию ошибок второго рода, но при этом часто определяет лояльного абонента как собирающегося свалить. Соответственно при увеличении качества модели будет увеличиваться precision, что значит, что ошибок первого рода( отнесение лояльного пользователя к оттоку) будет меньше. Что влияет на уменьшение стоимости кампании при сопоставимой эффективности."
   ]
  },
  {
   "cell_type": "markdown",
   "metadata": {},
   "source": [
    "при 1% это будет 0.01 * 477 = 5 пользователей исключаем из кампании, при 3% - 15. Снижение затрат - 100 и 300 рублей соответственно, при стоимости удержания 20 руб/пользователь"
   ]
  },
  {
   "cell_type": "markdown",
   "metadata": {},
   "source": [
    "6. Как вы думаете, является ли экономически оправданным вложение средств в улучшение качества модели? На сколько нужно улучшить модель, чтобы это качественно сказалось на экономическом эффекте от удержания?"
   ]
  },
  {
   "cell_type": "markdown",
   "metadata": {},
   "source": [
    "Я думаю, что улучшение модели необходимо проводить в степени дифференциации пользователей, не просто отток/не отток, а например, деление по лояльности и уже к соответствующим группам применять разные модели удержания, стимулирования и т.п. То есть применение такой простой модели неоправдано в современных реалиях"
   ]
  },
  {
   "cell_type": "code",
   "execution_count": null,
   "metadata": {},
   "outputs": [],
   "source": []
  }
 ],
 "metadata": {
  "kernelspec": {
   "display_name": "Python 3.7.9 64-bit",
   "language": "python",
   "name": "python3"
  },
  "language_info": {
   "codemirror_mode": {
    "name": "ipython",
    "version": 3
   },
   "file_extension": ".py",
   "mimetype": "text/x-python",
   "name": "python",
   "nbconvert_exporter": "python",
   "pygments_lexer": "ipython3",
   "version": "3.7.9"
  },
  "vscode": {
   "interpreter": {
    "hash": "f6c3fe0f35ac205adeee3d33d4d27f45ea8735944f6bcc7cc4d72c9672a115a8"
   }
  }
 },
 "nbformat": 4,
 "nbformat_minor": 1
}
